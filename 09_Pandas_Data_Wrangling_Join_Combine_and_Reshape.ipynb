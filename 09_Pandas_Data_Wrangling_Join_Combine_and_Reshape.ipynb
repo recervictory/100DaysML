{
  "nbformat": 4,
  "nbformat_minor": 0,
  "metadata": {
    "colab": {
      "name": "09 - Pandas - Data Wrangling Join Combine and Reshape.ipynb",
      "provenance": [],
      "collapsed_sections": [],
      "authorship_tag": "ABX9TyO8dmq1rDiC3X/eKpocVxSM",
      "include_colab_link": true
    },
    "kernelspec": {
      "name": "python3",
      "display_name": "Python 3"
    },
    "language_info": {
      "name": "python"
    }
  },
  "cells": [
    {
      "cell_type": "markdown",
      "metadata": {
        "id": "view-in-github",
        "colab_type": "text"
      },
      "source": [
        "<a href=\"https://colab.research.google.com/github/recervictory/100DaysML/blob/master/09_Pandas_Data_Wrangling_Join_Combine_and_Reshape.ipynb\" target=\"_parent\"><img src=\"https://colab.research.google.com/assets/colab-badge.svg\" alt=\"Open In Colab\"/></a>"
      ]
    },
    {
      "cell_type": "markdown",
      "metadata": {
        "id": "vAhRTD-YQGQI"
      },
      "source": [
        "# Data Wrangling: Join, Combine, and Reshape"
      ]
    },
    {
      "cell_type": "code",
      "metadata": {
        "id": "FJdoSMKvQqcB"
      },
      "source": [
        "# Importing\n",
        "import pandas as pd\n",
        "import numpy as np"
      ],
      "execution_count": null,
      "outputs": []
    },
    {
      "cell_type": "markdown",
      "metadata": {
        "id": "_f2-Fky4XuF1"
      },
      "source": [
        "## 0. Indexing with a DataFrame’s columns"
      ]
    },
    {
      "cell_type": "code",
      "metadata": {
        "id": "ZK85nM1QX-pP"
      },
      "source": [
        "frame = pd.DataFrame({'roll': range(7), \n",
        "                      'marks': range(7, 0, -1), \n",
        "                      'group': ['one', 'one', 'one', 'two', 'two', 'two', 'two'], \n",
        "                      'id': [0, 1, 2, 0, 1, 2, 3]})\n",
        "\n",
        "frame"
      ],
      "execution_count": null,
      "outputs": []
    },
    {
      "cell_type": "code",
      "metadata": {
        "id": "pZr9S6UeYXwG"
      },
      "source": [
        "# seting new index\n",
        "frameNew = frame.set_index(['group', 'id'])\n",
        "frameNew"
      ],
      "execution_count": null,
      "outputs": []
    },
    {
      "cell_type": "code",
      "metadata": {
        "id": "ro5EzamtYskw"
      },
      "source": [
        "# Not removing the original column\n",
        "frame.set_index(['group', 'id'], drop=False)"
      ],
      "execution_count": null,
      "outputs": []
    },
    {
      "cell_type": "markdown",
      "metadata": {
        "id": "fyVn-abYXx8s"
      },
      "source": [
        ""
      ]
    },
    {
      "cell_type": "markdown",
      "metadata": {
        "id": "Me-SQoS7QRKD"
      },
      "source": [
        "## 1. Hierarchical Indexing\n",
        "Hierarchical indexing is an important feature of pandas that enables you to have multiple (two or more) index levels on an axis. Somewhat abstractly, it provides a way for you to work with higher dimensional data in a lower dimensional form.\n",
        "\n",
        "Hierarchical indexing plays an important role in reshaping data and **group-based** operations like forming a **pivot table**. For example, you could rearrange the data into a DataFrame using its unstack method:"
      ]
    },
    {
      "cell_type": "code",
      "metadata": {
        "id": "SMhv9H0tP5Kb"
      },
      "source": [
        "# Hierarchical Indexing\n",
        "data =  pd.Series(np.random.randn(9), \\\n",
        "        index=[['a', 'a', 'a', 'b', 'b', 'c', 'c', 'd', 'd'], \\\n",
        "        [1, 2, 3, 1, 3, 1, 2, 2, 3]])\n",
        "data"
      ],
      "execution_count": null,
      "outputs": []
    },
    {
      "cell_type": "code",
      "metadata": {
        "id": "p7wnPK97QFjj"
      },
      "source": [
        "# Find Out Index\n",
        "data.index"
      ],
      "execution_count": null,
      "outputs": []
    },
    {
      "cell_type": "code",
      "metadata": {
        "id": "ctK3d6wJQ-8y"
      },
      "source": [
        "data['b']"
      ],
      "execution_count": null,
      "outputs": []
    },
    {
      "cell_type": "code",
      "metadata": {
        "id": "TuoZ6xfeRGla"
      },
      "source": [
        "data['b':'c']"
      ],
      "execution_count": null,
      "outputs": []
    },
    {
      "cell_type": "code",
      "metadata": {
        "id": "jqrf1NZLRJMW"
      },
      "source": [
        "data.loc[['b', 'd']]"
      ],
      "execution_count": null,
      "outputs": []
    },
    {
      "cell_type": "markdown",
      "metadata": {
        "id": "LRoCj3dDRm7g"
      },
      "source": [
        "Hierarchical indexing plays an important role in reshaping data and group-based\n",
        "operations like forming a `pivot table`. For example, you could rearrange the data into a DataFrame using its `unstack method`:"
      ]
    },
    {
      "cell_type": "code",
      "metadata": {
        "id": "_hFoogMnRM0L"
      },
      "source": [
        "data.unstack()"
      ],
      "execution_count": null,
      "outputs": []
    },
    {
      "cell_type": "code",
      "metadata": {
        "id": "KMBxcATJRwH8"
      },
      "source": [
        "# The inverse operation of unstack is stack\n",
        "data.unstack().stack()"
      ],
      "execution_count": null,
      "outputs": []
    },
    {
      "cell_type": "code",
      "metadata": {
        "id": "IATYeZJsR7Mw"
      },
      "source": [
        "frame = pd.DataFrame(np.arange(12).reshape((4, 3)), \n",
        "                     index=[['jan', 'jan', 'feb', 'feb'], [2011, 2012, 2011, 2012]],\n",
        "                     columns=[['Kolkata', 'Kolkata', 'Delhi'],\n",
        "                              ['Green', 'Red', 'Green']])\n",
        "\n",
        "frame"
      ],
      "execution_count": null,
      "outputs": []
    },
    {
      "cell_type": "code",
      "metadata": {
        "id": "vKfAwPsPSHvT"
      },
      "source": [
        "# Show index key\n",
        "frame.index.names = ['month', 'year']"
      ],
      "execution_count": null,
      "outputs": []
    },
    {
      "cell_type": "code",
      "metadata": {
        "id": "D3KkUwRkTG8S"
      },
      "source": [
        "# Show column names\n",
        "frame.columns.names = ['city', 'color']"
      ],
      "execution_count": null,
      "outputs": []
    },
    {
      "cell_type": "code",
      "metadata": {
        "id": "wpP98ESOTMeo"
      },
      "source": [
        "frame"
      ],
      "execution_count": null,
      "outputs": []
    },
    {
      "cell_type": "code",
      "metadata": {
        "id": "WwXG2xHEZBbd"
      },
      "source": [
        "# Reseting the index\n",
        "frameNew.reset_index()"
      ],
      "execution_count": null,
      "outputs": []
    },
    {
      "cell_type": "markdown",
      "metadata": {
        "id": "TGiNvcmgTykF"
      },
      "source": [
        "## 2. Reordering and Sorting Levels"
      ]
    },
    {
      "cell_type": "code",
      "metadata": {
        "id": "quAbWURFTeae"
      },
      "source": [
        "frame.swaplevel('year', 'month')"
      ],
      "execution_count": null,
      "outputs": []
    },
    {
      "cell_type": "markdown",
      "metadata": {
        "id": "uHNMCAKJUUpw"
      },
      "source": [
        "`sort_index`, on the other hand, sorts the data using only the values in a single level. When swapping levels, it’s not uncommon to also use sort_index so that the result is lexicographically sorted by the indicated level"
      ]
    },
    {
      "cell_type": "code",
      "metadata": {
        "id": "0fTBPMO-T7R_"
      },
      "source": [
        "frame.sort_index(level=1)"
      ],
      "execution_count": null,
      "outputs": []
    },
    {
      "cell_type": "code",
      "metadata": {
        "id": "QQ1dkus4Uby2"
      },
      "source": [
        "frame.swaplevel(0, 1).sort_index(level=0)"
      ],
      "execution_count": null,
      "outputs": []
    },
    {
      "cell_type": "code",
      "metadata": {
        "id": "y6h8JPnBUp21"
      },
      "source": [
        ""
      ],
      "execution_count": null,
      "outputs": []
    },
    {
      "cell_type": "markdown",
      "metadata": {
        "id": "w73aiHNkWAhn"
      },
      "source": [
        "## 3. Summary Statistics by Level\n",
        "\n",
        "Many descriptive and summary statistics on DataFrame and `Series` have a level\n",
        "option in which you can specify the level you want to `aggregate` by on a particular axis. "
      ]
    },
    {
      "cell_type": "code",
      "metadata": {
        "id": "oUeHSemcWSxr"
      },
      "source": [
        "frame.sum(level='month')"
      ],
      "execution_count": null,
      "outputs": []
    },
    {
      "cell_type": "code",
      "metadata": {
        "id": "ZMSJQ5fAWb_p"
      },
      "source": [
        "frame.mean(level='color', axis=1) # column wise"
      ],
      "execution_count": null,
      "outputs": []
    },
    {
      "cell_type": "markdown",
      "metadata": {
        "id": "KSqoM_80ZeeV"
      },
      "source": [
        "## 4. Combining and Merging Datasets\n",
        "\n",
        "Data contained in pandas objects can be combined together in a number of ways:\n",
        "- `pandas.merge` connects rows in DataFrames based on one or more keys. This\n",
        "will be familiar to users of SQL or other relational databases, as it implements\n",
        "database join operations.\n",
        "-  `pandas.concat` concatenates or “stacks” together objects along an axis.\n",
        "-  The `combine_first` instance method enables splicing together overlapping data to fill in missing values in one object with values from another.\n",
        "\n"
      ]
    },
    {
      "cell_type": "code",
      "metadata": {
        "id": "y7i0z_m9iMLR"
      },
      "source": [
        ""
      ],
      "execution_count": null,
      "outputs": []
    },
    {
      "cell_type": "markdown",
      "metadata": {
        "id": "8SIvi_UmaAZA"
      },
      "source": [
        "### Database-Style DataFrame Joins\n",
        "Merge or join operations combine datasets by linking rows using one or more keys. These operations are central to relational databases (e.g., SQL-based). The merge function in pandas is the main entry point for using these algorithms on your data."
      ]
    },
    {
      "cell_type": "code",
      "metadata": {
        "id": "lLM7hqtAZ6Y4"
      },
      "source": [
        "# 1st Dataframe\n",
        "df1 = pd.DataFrame({'name': ['b', 'b', 'a', 'c', 'a', 'a', 'b'], \n",
        "                    'math': range(7)})\n",
        "df1"
      ],
      "execution_count": null,
      "outputs": []
    },
    {
      "cell_type": "code",
      "metadata": {
        "id": "SLzEtVIAaNqp"
      },
      "source": [
        "# 2nd Dataframe\n",
        "df2 = pd.DataFrame({'name': ['a', 'b', 'd'], 'bio': range(3)})\n",
        "df2"
      ],
      "execution_count": null,
      "outputs": []
    },
    {
      "cell_type": "code",
      "metadata": {
        "id": "Xb-1vQ5FaXwB"
      },
      "source": [
        "pd.merge(df1,df2)"
      ],
      "execution_count": null,
      "outputs": []
    },
    {
      "cell_type": "markdown",
      "metadata": {
        "id": "LyFFmKOob5CC"
      },
      "source": [
        "##### Note that I didn’t specify which column to join on. If that information is not specified, merge uses the **overlapping column names** as the keys. It’s a good practice to specify explicitly, though:"
      ]
    },
    {
      "cell_type": "code",
      "metadata": {
        "id": "8nDUPEXtbcQ-"
      },
      "source": [
        "pd.merge(df1, df2, on='name')"
      ],
      "execution_count": null,
      "outputs": []
    },
    {
      "cell_type": "code",
      "metadata": {
        "id": "C8k4Mii6bsxL"
      },
      "source": [
        "# If the column names are different in each object, you can specify them separately:\n",
        "df3 = pd.DataFrame({'lname': ['b', 'b', 'a', 'c', 'a', 'a', 'b'], \n",
        "                    'math': range(7)})\n",
        "df4 = pd.DataFrame({'rname': ['a', 'b', 'd'], 'bio': range(3)})\n",
        "pd.merge(df3, df4, left_on='lname', right_on='rname')"
      ],
      "execution_count": null,
      "outputs": []
    },
    {
      "cell_type": "markdown",
      "metadata": {
        "id": "hsFpEpL5dPAN"
      },
      "source": [
        "### Type of JOIN in DataFrame\n",
        "![join](https://cdn.mindmajix.com/blog/images/db-01_2119.png \"Data Frame Join\")\n",
        "\n",
        "By default merge does an 'inner' join; the keys in the result are the intersec‐\n",
        "tion, or the common set found in both tables. Other possible options are 'left',\n",
        "'right', and 'outer'. The outer join takes the union of the keys, combining the\n",
        "effect of applying both left and right joins:\n",
        "\n",
        "### Different join types with how argument\n",
        "- 'inner' Use only the key combinations observed in both tables\n",
        "- 'left' Use all key combinations found in the left table\n",
        "- 'right' Use all key combinations found in the right table\n",
        "- 'output' Use all key combinations observed in both tables together\n",
        "\n"
      ]
    },
    {
      "cell_type": "code",
      "metadata": {
        "id": "c2I1zPB2dzl6"
      },
      "source": [
        "pd.merge(df1, df2, how='outer')"
      ],
      "execution_count": null,
      "outputs": []
    },
    {
      "cell_type": "markdown",
      "metadata": {
        "id": "PRqXkS7KiNvc"
      },
      "source": [
        "### Merging on Index\n",
        "In some cases, the merge key(s) in a DataFrame will be found in its index. In this case, you can pass left_index=True or right_index=True (or both) to indicate that the index should be used as the merge key"
      ]
    },
    {
      "cell_type": "code",
      "metadata": {
        "id": "oLOi79AOiU5i"
      },
      "source": [
        "left1 = pd.DataFrame({'key': ['a', 'b', 'a', 'a', 'b', 'c'],\n",
        "                      'value': range(6)})\n",
        "right1 = pd.DataFrame({'group_val': [3.5, 7]}, index=['a', 'b'])\n",
        "\n",
        "pd.merge(left1, right1, left_on='key', right_index=True)"
      ],
      "execution_count": null,
      "outputs": []
    },
    {
      "cell_type": "code",
      "metadata": {
        "id": "i-39iKnqip9w"
      },
      "source": [
        "# Using Outer Join \n",
        "pd.merge(left1, right1, left_on='key', right_index=True, how='outer')"
      ],
      "execution_count": null,
      "outputs": []
    },
    {
      "cell_type": "code",
      "metadata": {
        "id": "hBMJnPmOi2up"
      },
      "source": [
        "lefth = pd.DataFrame({'state': ['Ohio', 'Ohio', 'Ohio', 'Nevada', 'Nevada'],\n",
        "                      'year': [2000, 2001, 2002, 2001, 2002], \n",
        "                      'data': np.arange(5.)})\n",
        "\n",
        "righth = pd.DataFrame(np.arange(12).reshape((6, 2)),\n",
        "                      index=[['Nevada', 'Nevada', 'Ohio', 'Ohio','Ohio', 'Ohio'],\n",
        "                             [2001, 2000, 2000, 2000, 2001, 2002]],\n",
        "                      columns=['event1', 'event2'])"
      ],
      "execution_count": null,
      "outputs": []
    },
    {
      "cell_type": "code",
      "metadata": {
        "id": "MAmGQ0fejxl7"
      },
      "source": [
        "lefth"
      ],
      "execution_count": null,
      "outputs": []
    },
    {
      "cell_type": "code",
      "metadata": {
        "id": "8JWxrhXDjzO0"
      },
      "source": [
        "righth"
      ],
      "execution_count": null,
      "outputs": []
    },
    {
      "cell_type": "code",
      "metadata": {
        "id": "Wac_H_AFkDXz"
      },
      "source": [
        "pd.merge(lefth, righth, left_on=['state', 'year'], right_index=True)"
      ],
      "execution_count": null,
      "outputs": []
    },
    {
      "cell_type": "code",
      "metadata": {
        "id": "jacbu675kPyg"
      },
      "source": [
        "pd.merge(lefth, righth, left_on=['state', 'year'], right_index=True,how=\"outer\")"
      ],
      "execution_count": null,
      "outputs": []
    }
  ]
}